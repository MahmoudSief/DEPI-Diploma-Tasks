{
 "cells": [
  {
   "cell_type": "markdown",
   "id": "7ce8769b-0a4e-4883-9fda-5c5e600e54d7",
   "metadata": {},
   "source": [
    "# Student Dataset Cleaning, EDA, and Preprocessing Project"
   ]
  },
  {
   "cell_type": "markdown",
   "id": "eae4cc61-160b-4cb2-bf6c-ae1d830a2ae8",
   "metadata": {},
   "source": [
    "## Part 1"
   ]
  },
  {
   "cell_type": "markdown",
   "id": "c91c3a71-fd60-4335-86b6-2db059a1515a",
   "metadata": {},
   "source": [
    "### 1.\tCheck dataset structure"
   ]
  },
  {
   "cell_type": "code",
   "execution_count": 30,
   "id": "d2c14589-b44e-495f-919e-c1fc7cd70b6d",
   "metadata": {},
   "outputs": [
    {
     "name": "stdout",
     "output_type": "stream",
     "text": [
      "Shape of dataset: (77, 11)\n",
      "============================================\n",
      "\n",
      "Information:\n",
      "\n",
      "<class 'pandas.core.frame.DataFrame'>\n",
      "RangeIndex: 77 entries, 0 to 76\n",
      "Data columns (total 11 columns):\n",
      " #   Column         Non-Null Count  Dtype  \n",
      "---  ------         --------------  -----  \n",
      " 0   fNAME          77 non-null     object \n",
      " 1   lNAME          77 non-null     object \n",
      " 2   Age            77 non-null     int64  \n",
      " 3   gender         77 non-null     object \n",
      " 4   country        77 non-null     object \n",
      " 5   residence      77 non-null     object \n",
      " 6   entryEXAM      77 non-null     int64  \n",
      " 7   prevEducation  77 non-null     object \n",
      " 8   studyHOURS     77 non-null     int64  \n",
      " 9   Python         75 non-null     float64\n",
      " 10  DB             77 non-null     int64  \n",
      "dtypes: float64(1), int64(4), object(6)\n",
      "memory usage: 6.7+ KB\n",
      "None\n",
      "============================================\n",
      "\n",
      "First 5 rows:\n",
      "        fNAME      lNAME  Age  gender       country  residence  entryEXAM  \\\n",
      "0  Christina     Binger   44  Female        Norway    Private         72   \n",
      "1       Alex   Walekhwa   60       M         Kenya    Private         79   \n",
      "2     Philip        Leo   25    Male        Uganda  Sognsvann         55   \n",
      "3      Shoni  Hlongwane   22       F           Rsa  Sognsvann         40   \n",
      "4      Maria   Kedibone   23  Female  South Africa  Sognsvann         65   \n",
      "\n",
      "  prevEducation  studyHOURS  Python  DB  \n",
      "0       Masters         158    59.0  55  \n",
      "1       Diploma         150    60.0  75  \n",
      "2    HighSchool         130    74.0  50  \n",
      "3   High School         120     NaN  44  \n",
      "4   High School         122    91.0  80  \n"
     ]
    }
   ],
   "source": [
    "import pandas as pd\n",
    "import numpy as np\n",
    "import seaborn as sns\n",
    "import matplotlib.pyplot as plt\n",
    "\n",
    "df = pd.read_csv(\"bi.csv\", encoding=\"latin-1\")\n",
    "print(\"Shape of dataset:\", df.shape)\n",
    "print(\"============================================\")\n",
    "print(\"\\nInformation:\\n\")\n",
    "print(df.info())\n",
    "print(\"============================================\")\n",
    "print(\"\\nFirst 5 rows:\\n\", df.head())"
   ]
  },
  {
   "cell_type": "markdown",
   "id": "b2fe48fc-b431-473d-8f85-c2f82a52316d",
   "metadata": {
    "jp-MarkdownHeadingCollapsed": true
   },
   "source": [
    "### Notes\n",
    "Columns that should be Categorical are (fNAME, lNAME, gender, country, residence, prevEducation)\n",
    "\n",
    "\n",
    "Columns that should be Numerical are (Age, entryEXAM, studyHOURS, Python, DB)"
   ]
  },
  {
   "cell_type": "markdown",
   "id": "05701abb-fe57-475c-8525-05bce30996f5",
   "metadata": {},
   "source": [
    "### 2.\tDetect inconsistent categories"
   ]
  },
  {
   "cell_type": "code",
   "execution_count": 31,
   "id": "8021c97f-4095-4749-8005-133d2c3841fc",
   "metadata": {},
   "outputs": [
    {
     "name": "stdout",
     "output_type": "stream",
     "text": [
      "\n",
      "Unique Gender Values:\n",
      " ['Female' 'M' 'Male' 'F' 'female' 'male']\n",
      "\n",
      "Unique Country Values:\n",
      " ['Norway' 'Kenya' 'Uganda' 'Rsa' 'South Africa' 'Norge' 'norway' 'Denmark'\n",
      " 'Netherlands' 'Italy' 'Spain' 'UK' 'Somali' 'Nigeria' 'Germany' 'France']\n",
      "\n",
      "Unique PrevEducation Values:\n",
      " ['Masters' 'Diploma' 'HighSchool' 'High School' 'Bachelors' 'Barrrchelors'\n",
      " 'diploma' 'DIPLOMA' 'Diplomaaa' 'Doctorate']\n"
     ]
    }
   ],
   "source": [
    "print(\"\\nUnique Gender Values:\\n\", df['gender'].unique())\n",
    "print(\"\\nUnique Country Values:\\n\", df['country'].unique())\n",
    "print(\"\\nUnique PrevEducation Values:\\n\", df['prevEducation'].unique())"
   ]
  },
  {
   "cell_type": "markdown",
   "id": "aebc5889-f300-4ac7-b180-d3fc4391192e",
   "metadata": {},
   "source": [
    "#### Clean categorical inconsistencies\n"
   ]
  },
  {
   "cell_type": "code",
   "execution_count": 32,
   "id": "18a9090c-070d-48f1-8315-22ad366eb31e",
   "metadata": {},
   "outputs": [
    {
     "name": "stdout",
     "output_type": "stream",
     "text": [
      "\n",
      "Unique Gender Values:\n",
      " ['Female' 'Male']\n",
      "\n",
      "Unique Country Values:\n",
      " ['Norway' 'Kenya' 'Uganda' 'South Africa' 'Denmark' 'Netherlands' 'Italy'\n",
      " 'Spain' 'UK' 'Somali' 'Nigeria' 'Germany' 'France']\n",
      "\n",
      "Unique PrevEducation Values:\n",
      " ['Masters' 'Diploma' 'High School' 'Bachelor' 'Doctorate']\n"
     ]
    }
   ],
   "source": [
    "df['gender'] = df['gender'].str.strip().str.upper().replace({\n",
    "    'M': 'Male',\n",
    "    'F': 'Female',\n",
    "    'male': 'Male',\n",
    "    'female': 'Female',\n",
    "    'MALE': 'Male',\n",
    "    'FEMALE': 'Female'\n",
    "})\n",
    "\n",
    "df['country'] = df['country'].str.strip().str.title().replace({\n",
    "    'Rsa': 'South Africa',\n",
    "    'Norge': 'Norway',\n",
    "    'Uk': 'UK'  # Keep UK as short form\n",
    "})\n",
    "\n",
    "df['prevEducation'] = df['prevEducation'].str.strip().str.title().replace({\n",
    "    'Highschool': 'High School',\n",
    "    'Barrrchelors': 'Bachelor',\n",
    "    'Bachelors': 'Bachelor',\n",
    "    'Diplomaaa': 'Diploma'\n",
    "})\n",
    "# Now, Check:\n",
    "print(\"\\nUnique Gender Values:\\n\", df['gender'].unique())\n",
    "print(\"\\nUnique Country Values:\\n\", df['country'].unique())\n",
    "print(\"\\nUnique PrevEducation Values:\\n\", df['prevEducation'].unique())"
   ]
  },
  {
   "cell_type": "markdown",
   "id": "b78786d7-9ca2-4a15-afb5-a4af176c2783",
   "metadata": {},
   "source": [
    "### 3.\tHandle duplicates"
   ]
  },
  {
   "cell_type": "code",
   "execution_count": 33,
   "id": "989111fe-1d67-4eb2-ad46-73587dc78406",
   "metadata": {},
   "outputs": [
    {
     "name": "stdout",
     "output_type": "stream",
     "text": [
      "\n",
      "Number of duplicates found: 0\n",
      "\n",
      "After Modifying, Number of duplicates found: 0\n"
     ]
    }
   ],
   "source": [
    "duplicates = df.duplicated().sum()\n",
    "print(\"\\nNumber of duplicates found:\", duplicates)\n",
    "df = df.drop_duplicates()\n",
    "duplicates = df.duplicated().sum()\n",
    "print(\"\\nAfter Modifying, Number of duplicates found:\", duplicates)"
   ]
  },
  {
   "cell_type": "markdown",
   "id": "30ad82c2-caf9-4d00-8120-c32f45dd3e50",
   "metadata": {},
   "source": [
    "# Part 2 – Missing Data"
   ]
  },
  {
   "cell_type": "markdown",
   "id": "e679c0be-6916-410a-bc2e-fb6854fdce11",
   "metadata": {},
   "source": [
    "## 1.\tIdentify missing values"
   ]
  },
  {
   "cell_type": "code",
   "execution_count": 34,
   "id": "a3f0622b-d7cf-4656-adcf-5783fe8c3006",
   "metadata": {
    "scrolled": true
   },
   "outputs": [
    {
     "name": "stdout",
     "output_type": "stream",
     "text": [
      "\n",
      "Missing values per column:\n",
      " fNAME            0\n",
      "lNAME            0\n",
      "Age              0\n",
      "gender           0\n",
      "country          0\n",
      "residence        0\n",
      "entryEXAM        0\n",
      "prevEducation    0\n",
      "studyHOURS       0\n",
      "Python           2\n",
      "DB               0\n",
      "dtype: int64\n"
     ]
    }
   ],
   "source": [
    "print(\"\\nMissing values per column:\\n\", df.isnull().sum())"
   ]
  },
  {
   "cell_type": "markdown",
   "id": "f93222ef-97b1-46ec-944f-57212ec5be2a",
   "metadata": {},
   "source": [
    "### 2.\tImpute missing values"
   ]
  },
  {
   "cell_type": "markdown",
   "id": "6da007da-3536-4a7a-bf22-a67ce3b9147c",
   "metadata": {},
   "source": [
    "#### The only missing data are numerical data in the Python column"
   ]
  },
  {
   "cell_type": "code",
   "execution_count": 35,
   "id": "ae5c2c17-8078-451c-973a-dc34a5971dbf",
   "metadata": {
    "scrolled": true
   },
   "outputs": [
    {
     "name": "stdout",
     "output_type": "stream",
     "text": [
      "\n",
      "Missing values after imputation:\n",
      " fNAME            0\n",
      "lNAME            0\n",
      "Age              0\n",
      "gender           0\n",
      "country          0\n",
      "residence        0\n",
      "entryEXAM        0\n",
      "prevEducation    0\n",
      "studyHOURS       0\n",
      "Python           0\n",
      "DB               0\n",
      "dtype: int64\n"
     ]
    }
   ],
   "source": [
    "# Fill numerical with median\n",
    "df['Python'] = df['Python'].fillna(df['Python'].median())\n",
    "\n",
    "# Verify\n",
    "print(\"\\nMissing values after imputation:\\n\", df.isnull().sum())\n"
   ]
  },
  {
   "cell_type": "markdown",
   "id": "de968978-971d-4b33-b631-bfae24b4129e",
   "metadata": {},
   "source": [
    "# Part 3 – Outliers"
   ]
  },
  {
   "cell_type": "markdown",
   "id": "07b02544-ede0-4c85-93c1-7b27255234f8",
   "metadata": {},
   "source": [
    "### 1.\tDetect outliers"
   ]
  },
  {
   "cell_type": "code",
   "execution_count": 36,
   "id": "95bad1d6-79d5-4932-879c-344298adbfa9",
   "metadata": {},
   "outputs": [
    {
     "data": {
      "image/png": "[encoded data removed]",
      "text/plain": [
       "<Figure size 600x300 with 1 Axes>"
      ]
     },
     "metadata": {},
     "output_type": "display_data"
    },
    {
     "name": "stdout",
     "output_type": "stream",
     "text": [
      "\n",
      "Summary statistics for Age:\n",
      " count    77.000000\n",
      "mean     35.207792\n",
      "std      10.341966\n",
      "min      21.000000\n",
      "25%      27.000000\n",
      "50%      33.000000\n",
      "75%      42.000000\n",
      "max      71.000000\n",
      "Name: Age, dtype: float64\n"
     ]
    },
    {
     "data": {
      "image/png": "[encoded data removed]",
      "text/plain": [
       "<Figure size 600x300 with 1 Axes>"
      ]
     },
     "metadata": {},
     "output_type": "display_data"
    },
    {
     "name": "stdout",
     "output_type": "stream",
     "text": [
      "\n",
      "Summary statistics for entryEXAM:\n",
      " count    77.000000\n",
      "mean     76.753247\n",
      "std      16.475784\n",
      "min      28.000000\n",
      "25%      69.000000\n",
      "50%      80.000000\n",
      "75%      90.000000\n",
      "max      98.000000\n",
      "Name: entryEXAM, dtype: float64\n"
     ]
    },
    {
     "data": {
      "image/png": "[encoded data removed]",
      "text/plain": [
       "<Figure size 600x300 with 1 Axes>"
      ]
     },
     "metadata": {},
     "output_type": "display_data"
    },
    {
     "name": "stdout",
     "output_type": "stream",
     "text": [
      "\n",
      "Summary statistics for studyHOURS:\n",
      " count     77.000000\n",
      "mean     149.714286\n",
      "std       12.743272\n",
      "min      114.000000\n",
      "25%      144.000000\n",
      "50%      156.000000\n",
      "75%      158.000000\n",
      "max      160.000000\n",
      "Name: studyHOURS, dtype: float64\n"
     ]
    },
    {
     "data": {
      "image/png": "[encoded data removed]",
      "text/plain": [
       "<Figure size 600x300 with 1 Axes>"
      ]
     },
     "metadata": {},
     "output_type": "display_data"
    },
    {
     "name": "stdout",
     "output_type": "stream",
     "text": [
      "\n",
      "Summary statistics for Python:\n",
      " count    77.000000\n",
      "mean     75.987013\n",
      "std      15.228517\n",
      "min      15.000000\n",
      "25%      72.000000\n",
      "50%      81.000000\n",
      "75%      85.000000\n",
      "max      91.000000\n",
      "Name: Python, dtype: float64\n"
     ]
    },
    {
     "data": {
      "image/png": "[encoded data removed]",
      "text/plain": [
       "<Figure size 600x300 with 1 Axes>"
      ]
     },
     "metadata": {},
     "output_type": "display_data"
    },
    {
     "name": "stdout",
     "output_type": "stream",
     "text": [
      "\n",
      "Summary statistics for DB:\n",
      " count     77.000000\n",
      "mean      69.467532\n",
      "std       17.033701\n",
      "min       30.000000\n",
      "25%       56.000000\n",
      "50%       71.000000\n",
      "75%       83.000000\n",
      "max      100.000000\n",
      "Name: DB, dtype: float64\n"
     ]
    }
   ],
   "source": [
    "for col in ['Age', 'entryEXAM', 'studyHOURS', 'Python', 'DB']:\n",
    "    plt.figure(figsize=(6,3))\n",
    "    sns.boxplot(x=df[col])\n",
    "    plt.title(f\"Boxplot of {col}\")\n",
    "    plt.show()\n",
    "    print(f\"\\nSummary statistics for {col}:\\n\",df[col].describe())"
   ]
  },
  {
   "cell_type": "markdown",
   "id": "505bbad5-055c-466d-910c-581695a73771",
   "metadata": {},
   "source": [
    "#### Notes\n",
    "\n",
    "\n",
    "For studyHOURS\n",
    "\n",
    "\n",
    "- **Range:** 114 → 160 hours per week  \n",
    "- **Mean:** ~150 hours/week ≈ **21 hours/day of studying**  \n",
    "\n",
    "\n",
    "\n",
    "That’s **very unrealistic**.  \n",
    "\n",
    "\n",
    "\n",
    "##### Thus:\n",
    "- studyHOURS values are **outliers / incorrectly recorded**.  \n",
    "- They probably should be on a smaller scale (e.g., weekly **10–50 hrs**) or the same values but per month not week.  \n",
    "- These values **need fixing** before analysis.\n"
   ]
  },
  {
   "cell_type": "markdown",
   "id": "808a6052-d85e-4aa7-8431-99c5f3e0a770",
   "metadata": {},
   "source": [
    "### 2.\tHandle outliers"
   ]
  },
  {
   "cell_type": "code",
   "execution_count": 37,
   "id": "d4ea64f8-c4b8-45d8-96e3-e4ed43985ac6",
   "metadata": {},
   "outputs": [],
   "source": [
    "# Remove unrealistic values for exam scores (<0 or >100)\n",
    "df = df[(df['Python'].between(0, 100)) & (df['DB'].between(0, 100)) & (df['entryEXAM'].between(0, 100))]\n",
    "\n",
    "# Use IQR method for studyHOURS\n",
    "Q1 = df['studyHOURS'].quantile(0.25)\n",
    "Q3 = df['studyHOURS'].quantile(0.75)\n",
    "IQR = Q3 - Q1\n",
    "df = df[(df['studyHOURS'] >= Q1 - 1.5*IQR) & (df['studyHOURS'] <= Q3 + 1.5*IQR)]"
   ]
  },
  {
   "cell_type": "markdown",
   "id": "e055fc96-dd16-4dcf-8192-4ea39c9c644d",
   "metadata": {},
   "source": [
    "# Part 4 – Feature Engineering"
   ]
  },
  {
   "cell_type": "code",
   "execution_count": 38,
   "id": "3a6643d4-9487-4ce8-9e85-ade2f1763eee",
   "metadata": {},
   "outputs": [
    {
     "name": "stdout",
     "output_type": "stream",
     "text": [
      "   Prog_Avg  isAdult studyHOURS_cat\n",
      "0      57.0        1           High\n",
      "1      67.5        1           High\n",
      "2      62.0        1           High\n",
      "5      73.5        1           High\n",
      "6      85.5        1           High\n"
     ]
    }
   ],
   "source": [
    "# Programming Average\n",
    "df['Prog_Avg'] = (df['Python'] + df['DB']) / 2\n",
    "\n",
    "# Binary feature: isAdult\n",
    "df['isAdult'] = np.where(df['Age'] >= 25, 1, 0)\n",
    "\n",
    "# Categorize study hours\n",
    "def categorize_hours(hours):\n",
    "    if hours < 10:\n",
    "        return \"Low\"\n",
    "    elif 10 <= hours <= 20:\n",
    "        return \"Medium\"\n",
    "    else:\n",
    "        return \"High\"\n",
    "\n",
    "df['studyHOURS_cat'] = df['studyHOURS'].apply(categorize_hours)\n",
    "\n",
    "# Check new features\n",
    "print(df[['Prog_Avg','isAdult','studyHOURS_cat']].head())\n"
   ]
  },
  {
   "cell_type": "markdown",
   "id": "c9e4f78e-16b8-4269-8057-0b354a59c8bc",
   "metadata": {},
   "source": [
    "Note:\n",
    "\n",
    "I think programming average feature will add strong predictive power because it combines Python and DB scores into a single performance metric."
   ]
  },
  {
   "cell_type": "markdown",
   "id": "7201d7ce-c6e8-4ebc-8428-5e970a83204d",
   "metadata": {},
   "source": [
    "# Part 5 – Feature Scaling"
   ]
  },
  {
   "cell_type": "code",
   "execution_count": 39,
   "id": "070f4b4d-cb60-4d87-91e4-e8f16a45f989",
   "metadata": {},
   "outputs": [
    {
     "name": "stdout",
     "output_type": "stream",
     "text": [
      "Standard Scaled Sample:\n",
      "         Age  entryEXAM  studyHOURS    Python        DB  Prog_Avg\n",
      "0  0.905699  -0.588481    0.617549 -2.134353 -0.982231 -1.649025\n",
      "1  2.610544  -0.057439   -0.332526 -2.027253  0.249959 -0.683646\n",
      "2 -1.118804  -1.878155   -2.707715 -0.527851 -1.290279 -1.189321\n",
      "5 -1.118804  -1.043660   -2.707715  0.971551 -0.735793 -0.132001\n",
      "6 -0.905699   0.777056    0.380030  0.114750  1.235711  0.971290\n",
      "\n",
      "%%%%%%%%%%%%%%%%%%%%%%%%%%%%%%%%%%%%%%%%%%\n",
      "\n",
      "MinMax Scaled Sample:\n",
      "         Age  entryEXAM  studyHOURS    Python        DB  Prog_Avg\n",
      "0  0.479167   0.587302    0.944444  0.261905  0.328358  0.142857\n",
      "1  0.812500   0.698413    0.722222  0.285714  0.626866  0.392857\n",
      "2  0.083333   0.317460    0.166667  0.619048  0.253731  0.261905\n",
      "5  0.083333   0.492063    0.166667  0.952381  0.388060  0.535714\n",
      "6  0.125000   0.873016    0.888889  0.761905  0.865672  0.821429\n"
     ]
    }
   ],
   "source": [
    "from sklearn.preprocessing import StandardScaler, MinMaxScaler\n",
    "\n",
    "# Select numerical columns\n",
    "num_cols = ['Age','entryEXAM','studyHOURS','Python','DB','Prog_Avg']\n",
    "\n",
    "# Standard Scaling\n",
    "scaler_std = StandardScaler()\n",
    "df_std = df.copy()\n",
    "df_std[num_cols] = scaler_std.fit_transform(df_std[num_cols])\n",
    "\n",
    "# MinMax Scaling\n",
    "scaler_mm = MinMaxScaler()\n",
    "df_mm = df.copy()\n",
    "df_mm[num_cols] = scaler_mm.fit_transform(df_mm[num_cols])\n",
    "\n",
    "print(\"Standard Scaled Sample:\\n\", df_std[num_cols].head())\n",
    "print(\"\\n%%%%%%%%%%%%%%%%%%%%%%%%%%%%%%%%%%%%%%%%%%\\n\")\n",
    "print(\"MinMax Scaled Sample:\\n\", df_mm[num_cols].head())\n"
   ]
  },
  {
   "cell_type": "markdown",
   "id": "4d9d2c4d-de94-46d5-8123-dfd6cc29fb51",
   "metadata": {},
   "source": [
    "# Part 6 – Encoding Categorical Data"
   ]
  },
  {
   "cell_type": "code",
   "execution_count": 40,
   "id": "4418cda4-abdd-462b-b468-a03d63aff418",
   "metadata": {},
   "outputs": [
    {
     "name": "stdout",
     "output_type": "stream",
     "text": [
      "  prevEducation  prevEducation_encoded\n",
      "0       Masters                    NaN\n",
      "1       Diploma                    1.0\n",
      "2   High School                    0.0\n",
      "5   High School                    0.0\n",
      "6      Bachelor                    2.0\n",
      "       fNAME     lNAME  Age  entryEXAM prevEducation  studyHOURS  Python  DB  \\\n",
      "0  Christina    Binger   44         72       Masters         158    59.0  55   \n",
      "1       Alex  Walekhwa   60         79       Diploma         150    60.0  75   \n",
      "2     Philip       Leo   25         55   High School         130    74.0  50   \n",
      "5     Hannah    Hansen   25         66   High School         130    88.0  59   \n",
      "6        Ole  Johansen   27         90      Bachelor         156    80.0  91   \n",
      "\n",
      "   Prog_Avg  isAdult  ...  country_Norway  country_Somali  country_Spain  \\\n",
      "0      57.0        1  ...            True           False          False   \n",
      "1      67.5        1  ...           False           False          False   \n",
      "2      62.0        1  ...           False           False          False   \n",
      "5      73.5        1  ...            True           False          False   \n",
      "6      85.5        1  ...            True           False          False   \n",
      "\n",
      "   country_UK  country_Uganda  residence_BI-Residence  residence_BIResidence  \\\n",
      "0       False           False                   False                  False   \n",
      "1       False           False                   False                  False   \n",
      "2       False            True                   False                  False   \n",
      "5       False           False                   False                  False   \n",
      "6       False           False                    True                  False   \n",
      "\n",
      "   residence_BI_Residence  residence_Private  residence_Sognsvann  \n",
      "0                   False               True                False  \n",
      "1                   False               True                False  \n",
      "2                   False              False                 True  \n",
      "5                   False              False                False  \n",
      "6                   False              False                False  \n",
      "\n",
      "[5 rows x 28 columns]\n"
     ]
    }
   ],
   "source": [
    "# Encode Ordinal Feature (prevEducation)\n",
    "\n",
    "# Define the correct order of education levels\n",
    "education_order = {\n",
    "    'High School': 0,\n",
    "    'Diploma': 1,\n",
    "    'Bachelor': 2,\n",
    "    'Master': 3,\n",
    "    'Doctorate': 4\n",
    "}\n",
    "\n",
    "# Apply mapping\n",
    "df['prevEducation_encoded'] = df['prevEducation'].map(education_order)\n",
    "\n",
    "print(df[['prevEducation','prevEducation_encoded']].head())\n",
    "\n",
    "# Encode Nominal Features (gender, country, residence, studyHOURS_cat)\n",
    "\n",
    "# One-Hot Encoding with pandas\n",
    "df_encoded = pd.get_dummies(\n",
    "    df, \n",
    "    columns=['gender','country','residence','studyHOURS_cat'], \n",
    "    drop_first=True # avoid dummy variable trap\n",
    ")\n",
    "\n",
    "print(df_encoded.head())\n",
    "\n",
    "# Drop the Original Ordinal Column\n",
    "df_encoded = df_encoded.drop(columns=['prevEducation'])\n",
    "\n"
   ]
  },
  {
   "cell_type": "markdown",
   "id": "890b32f8-7e04-4ab5-8bae-b4311e80dfe0",
   "metadata": {},
   "source": [
    "# Final Dataset"
   ]
  },
  {
   "cell_type": "code",
   "execution_count": 41,
   "id": "97e3feab-4824-4c47-82b5-0d2f192458d6",
   "metadata": {},
   "outputs": [
    {
     "name": "stdout",
     "output_type": "stream",
     "text": [
      "\n",
      "Final dataset shape: (70, 15)\n",
      "       fNAME     lNAME  Age  gender country     residence  entryEXAM  \\\n",
      "0  Christina    Binger   44  Female  Norway       Private         72   \n",
      "1       Alex  Walekhwa   60    Male   Kenya       Private         79   \n",
      "2     Philip       Leo   25    Male  Uganda     Sognsvann         55   \n",
      "5     Hannah    Hansen   25  Female  Norway  BI Residence         66   \n",
      "6        Ole  Johansen   27    Male  Norway  BI-Residence         90   \n",
      "\n",
      "  prevEducation  studyHOURS  Python  DB  Prog_Avg  isAdult studyHOURS_cat  \\\n",
      "0       Masters         158    59.0  55      57.0        1           High   \n",
      "1       Diploma         150    60.0  75      67.5        1           High   \n",
      "2   High School         130    74.0  50      62.0        1           High   \n",
      "5   High School         130    88.0  59      73.5        1           High   \n",
      "6      Bachelor         156    80.0  91      85.5        1           High   \n",
      "\n",
      "   prevEducation_encoded  \n",
      "0                    NaN  \n",
      "1                    1.0  \n",
      "2                    0.0  \n",
      "5                    0.0  \n",
      "6                    2.0  \n"
     ]
    }
   ],
   "source": [
    "# Final check\n",
    "\n",
    "print(\"\\nFinal dataset shape:\", df.shape)\n",
    "print(df.head())\n"
   ]
  },
  {
   "cell_type": "code",
   "execution_count": 42,
   "id": "31d12d30-5464-4728-91db-bbac205167cf",
   "metadata": {},
   "outputs": [
    {
     "name": "stdout",
     "output_type": "stream",
     "text": [
      "Final dataset shape: (70, 27)\n",
      "Columns:\n",
      " Index(['fNAME', 'lNAME', 'Age', 'entryEXAM', 'studyHOURS', 'Python', 'DB',\n",
      "       'Prog_Avg', 'isAdult', 'prevEducation_encoded', 'gender_Male',\n",
      "       'country_France', 'country_Germany', 'country_Italy', 'country_Kenya',\n",
      "       'country_Netherlands', 'country_Nigeria', 'country_Norway',\n",
      "       'country_Somali', 'country_Spain', 'country_UK', 'country_Uganda',\n",
      "       'residence_BI-Residence', 'residence_BIResidence',\n",
      "       'residence_BI_Residence', 'residence_Private', 'residence_Sognsvann'],\n",
      "      dtype='object')\n"
     ]
    }
   ],
   "source": [
    "# Save final processed dataset\n",
    "df_encoded.to_csv(\"final_students.csv\", index=False)\n",
    "\n",
    "print(\"Final dataset shape:\", df_encoded.shape)\n",
    "print(\"Columns:\\n\", df_encoded.columns)\n"
   ]
  }
 ],
 "metadata": {
  "kernelspec": {
   "display_name": "Python [conda env:base] *",
   "language": "python",
   "name": "conda-base-py"
  },
  "language_info": {
   "codemirror_mode": {
    "name": "ipython",
    "version": 3
   },
   "file_extension": ".py",
   "mimetype": "text/x-python",
   "name": "python",
   "nbconvert_exporter": "python",
   "pygments_lexer": "ipython3",
   "version": "3.13.5"
  }
 },
 "nbformat": 4,
 "nbformat_minor": 5
}
